{
 "cells": [
  {
   "cell_type": "markdown",
   "metadata": {},
   "source": [
    "# Mechanism Enrichment Score Percentile Calculation\n",
    "\n",
    "This notebook executes simple statistics over the NeuroMMSig mechanism enrichment scores presented in [Step 2](https://github.com/cthoyt/epicom#step-2-1) of the comparitive mechanism enrichment analysis presented in Hoyt and Domingo-Fernandez *et al.*, 2018."
   ]
  },
  {
   "cell_type": "code",
   "execution_count": 1,
   "metadata": {},
   "outputs": [],
   "source": [
    "import pandas as pd\n",
    "import seaborn as sns\n",
    "import matplotlib.pyplot as plt\n",
    "import numpy as np\n",
    "\n",
    "%matplotlib inline"
   ]
  },
  {
   "cell_type": "markdown",
   "metadata": {},
   "source": [
    "# Data\n",
    "\n",
    "Below is the original table from which the scores are extracted. \n",
    "\n",
    "<img src=\"screenshots/comparison-step2.png\" alt=\"Drawing\" style=\"width: 600px;\"/>"
   ]
  },
  {
   "cell_type": "code",
   "execution_count": 2,
   "metadata": {},
   "outputs": [],
   "source": [
    "scores = [\n",
    "    0.75,\n",
    "    0.72,\n",
    "    0.48,\n",
    "    0.46,\n",
    "    0.33,\n",
    "    0.20,\n",
    "    0.14,\n",
    "    0.08,\n",
    "    0.05,\n",
    "    0.03,\n",
    "    0.02,\n",
    "    0.01,\n",
    "]\n",
    "\n",
    "scores = pd.Series(scores)"
   ]
  },
  {
   "cell_type": "markdown",
   "metadata": {},
   "source": [
    "# Analysis\n",
    "\n",
    "Since the NeuroMMSig mechanism enrichment scores are only meant for ranking, their absolute values aren't so useful for comparion. Therefore, the 90th percentile was used as a cutoff to identify the most relevant subgraphs. "
   ]
  },
  {
   "cell_type": "code",
   "execution_count": 3,
   "metadata": {},
   "outputs": [
    {
     "data": {
      "text/plain": [
       "0.6960000000000001"
      ]
     },
     "execution_count": 3,
     "metadata": {},
     "output_type": "execute_result"
    }
   ],
   "source": [
    "ninety_percentile = np.percentile(scores, 90)\n",
    "ninety_percentile"
   ]
  },
  {
   "cell_type": "markdown",
   "metadata": {},
   "source": [
    "A plot of the mechanism enrichment scores shows a pseudo-exponential distribution. The 90th percentile as well as the KDE plot are drawn to assist in interpretation."
   ]
  },
  {
   "cell_type": "code",
   "execution_count": 9,
   "metadata": {},
   "outputs": [
    {
     "data": {
      "image/png": "[encoded data removed]",
      "text/plain": [
       "<matplotlib.figure.Figure at 0x10d8170f0>"
      ]
     },
     "metadata": {},
     "output_type": "display_data"
    }
   ],
   "source": [
    "plt.title('Distribution of Mechanism Enrichment Scores')\n",
    "plt.xlabel('Mechanism Enrichment Score')\n",
    "plt.ylabel('Frequency')\n",
    "sns.distplot(scores)\n",
    "plt.axvline(ninety_percentile)\n",
    "plt.show()"
   ]
  }
 ],
 "metadata": {
  "kernelspec": {
   "display_name": "Python 3",
   "language": "python",
   "name": "python3"
  },
  "language_info": {
   "codemirror_mode": {
    "name": "ipython",
    "version": 3
   },
   "file_extension": ".py",
   "mimetype": "text/x-python",
   "name": "python",
   "nbconvert_exporter": "python",
   "pygments_lexer": "ipython3",
   "version": "3.6.4"
  }
 },
 "nbformat": 4,
 "nbformat_minor": 2
}
