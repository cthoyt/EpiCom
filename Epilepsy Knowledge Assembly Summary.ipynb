{
 "cells": [
  {
   "cell_type": "markdown",
   "metadata": {},
   "source": [
    "# Summary of the Epilepsy Knowlege Assembly\n",
    "\n",
    "This notebook was used to generate **Table 2** of the manuscript, \"A systematic approach for identifying shared mechanisms in epilepsy and its comorbidities\" from Hoyt and Domingo-Fernandez *et. al*, 2018. In this example, we'll summarize the NeuroMMSig subgraphs in the Epilepsy Knowledge Assembly."
   ]
  },
  {
   "cell_type": "markdown",
   "metadata": {},
   "source": [
    "## Code Provenance\n",
    "\n",
    "This notebook uses Python 3 and the currently most up-to-date versions of [PyBEL](https://github.com/pybel/pybel) and [PyBEL Tools](https://github.com/pybel/pybel-tools)."
   ]
  },
  {
   "cell_type": "code",
   "execution_count": 1,
   "metadata": {},
   "outputs": [],
   "source": [
    "import os\n",
    "import sys\n",
    "import time\n",
    "\n",
    "import pandas as pd\n",
    "\n",
    "import pybel\n",
    "import pybel.utils \n",
    "from pybel_tools import selection\n",
    "import pybel_tools.utils\n",
    "from pybel_tools.mutation import infer_central_dogma\n",
    "from pybel_tools.summary import info_json, info_list"
   ]
  },
  {
   "cell_type": "code",
   "execution_count": 2,
   "metadata": {},
   "outputs": [
    {
     "name": "stdout",
     "output_type": "stream",
     "text": [
      "3.6.3 (default, Oct  9 2017, 09:47:56) \n",
      "[GCC 4.2.1 Compatible Apple LLVM 9.0.0 (clang-900.0.37)]\n"
     ]
    }
   ],
   "source": [
    "print(sys.version)"
   ]
  },
  {
   "cell_type": "code",
   "execution_count": 3,
   "metadata": {},
   "outputs": [
    {
     "name": "stdout",
     "output_type": "stream",
     "text": [
      "Thu Mar 22 15:40:50 2018\n"
     ]
    }
   ],
   "source": [
    "print(time.asctime())"
   ]
  },
  {
   "cell_type": "code",
   "execution_count": 4,
   "metadata": {},
   "outputs": [
    {
     "name": "stdout",
     "output_type": "stream",
     "text": [
      "0.11.2-dev\n"
     ]
    }
   ],
   "source": [
    "print(pybel.utils.get_version())"
   ]
  },
  {
   "cell_type": "code",
   "execution_count": 5,
   "metadata": {},
   "outputs": [
    {
     "name": "stdout",
     "output_type": "stream",
     "text": [
      "0.5.2-dev\n"
     ]
    }
   ],
   "source": [
    "print(pybel_tools.utils.get_version())"
   ]
  },
  {
   "cell_type": "markdown",
   "metadata": {},
   "source": [
    "## Data Provenance\n",
    "\n",
    "This notebook uses the Epilepsy Knowledge Assembly, which is available from the Fraunhofer SCAI Department of Bioinformatics [downloads page](https://www.scai.fraunhofer.de/en/business-research-areas/bioinformatics/downloads.html)."
   ]
  },
  {
   "cell_type": "code",
   "execution_count": 6,
   "metadata": {},
   "outputs": [],
   "source": [
    "bel_url = 'https://www.scai.fraunhofer.de/content/dam/scai/de/downloads/bioinformatik/epilepsy.bel'"
   ]
  },
  {
   "cell_type": "markdown",
   "metadata": {},
   "source": [
    "The following local file path is defined for caching"
   ]
  },
  {
   "cell_type": "code",
   "execution_count": 7,
   "metadata": {},
   "outputs": [],
   "source": [
    "pickle_path = 'epilepsy.gpickle'"
   ]
  },
  {
   "cell_type": "code",
   "execution_count": 8,
   "metadata": {},
   "outputs": [
    {
     "name": "stdout",
     "output_type": "stream",
     "text": [
      "CPU times: user 35.3 ms, sys: 10.7 ms, total: 46 ms\n",
      "Wall time: 44.6 ms\n"
     ]
    }
   ],
   "source": [
    "%%time\n",
    "\n",
    "if os.path.exists(pickle_path): # load from pre-compiled\n",
    "    graph = pybel.from_pickle(pickle_path)\n",
    "else:\n",
    "    graph = pybel.from_url(bel_url)\n",
    "    pybel.to_pickle(graph, pickle_path) # cache for later"
   ]
  },
  {
   "cell_type": "markdown",
   "metadata": {},
   "source": [
    "There are a couple semantic errors in the document. Nobody's perfect!"
   ]
  },
  {
   "cell_type": "code",
   "execution_count": 9,
   "metadata": {},
   "outputs": [
    {
     "name": "stdout",
     "output_type": "stream",
     "text": [
      "Epilepsy Knowledge Assembly v1.0.0\n"
     ]
    }
   ],
   "source": [
    "print(graph)"
   ]
  },
  {
   "cell_type": "markdown",
   "metadata": {},
   "source": [
    "## Processing"
   ]
  },
  {
   "cell_type": "markdown",
   "metadata": {},
   "source": [
    "Ensure all proteins have their corresponding mRNAs, and all RNAs have their corresponding genes."
   ]
  },
  {
   "cell_type": "code",
   "execution_count": 10,
   "metadata": {},
   "outputs": [],
   "source": [
    "infer_central_dogma(graph)"
   ]
  },
  {
   "cell_type": "markdown",
   "metadata": {},
   "source": [
    "Split the graph into subgraphs using the `Subgraph` annotation."
   ]
  },
  {
   "cell_type": "code",
   "execution_count": 11,
   "metadata": {},
   "outputs": [
    {
     "data": {
      "text/plain": [
       "33"
      ]
     },
     "execution_count": 11,
     "metadata": {},
     "output_type": "execute_result"
    }
   ],
   "source": [
    "subgraphs = selection.get_subgraphs_by_annotation(graph, 'Subgraph')\n",
    "len(subgraphs)"
   ]
  },
  {
   "cell_type": "markdown",
   "metadata": {},
   "source": [
    "## Summary"
   ]
  },
  {
   "cell_type": "code",
   "execution_count": 12,
   "metadata": {},
   "outputs": [],
   "source": [
    "def fix_columns(df_):\n",
    "    for c in ['Nodes', 'Edges', 'Citations', 'Components']:\n",
    "        df_[c] = df_[c].astype(int)"
   ]
  },
  {
   "cell_type": "markdown",
   "metadata": {},
   "source": [
    "Using the [`pybel_tools.summary.info_json`](http://pybel-tools.readthedocs.io/en/latest/summary.html#pybel_tools.summary.info_json) function, the nodes, edges, citations, authors, average degree, and network density of a graph are entered in a dictionary. Edges that were not classified in a subgraph were labeled as \"Undefined.\""
   ]
  },
  {
   "cell_type": "code",
   "execution_count": 13,
   "metadata": {},
   "outputs": [
    {
     "data": {
      "text/html": [
       "<div>\n",
       "<style scoped>\n",
       "    .dataframe tbody tr th:only-of-type {\n",
       "        vertical-align: middle;\n",
       "    }\n",
       "\n",
       "    .dataframe tbody tr th {\n",
       "        vertical-align: top;\n",
       "    }\n",
       "\n",
       "    .dataframe thead th {\n",
       "        text-align: right;\n",
       "    }\n",
       "</style>\n",
       "<table border=\"1\" class=\"dataframe\">\n",
       "  <thead>\n",
       "    <tr style=\"text-align: right;\">\n",
       "      <th></th>\n",
       "      <th>Average degree</th>\n",
       "      <th>Citations</th>\n",
       "      <th>Components</th>\n",
       "      <th>Edges</th>\n",
       "      <th>Network density</th>\n",
       "      <th>Nodes</th>\n",
       "    </tr>\n",
       "  </thead>\n",
       "  <tbody>\n",
       "    <tr>\n",
       "      <th>Adaptive immune system subgraph</th>\n",
       "      <td>1.000000</td>\n",
       "      <td>5</td>\n",
       "      <td>4</td>\n",
       "      <td>12</td>\n",
       "      <td>0.090909</td>\n",
       "      <td>12</td>\n",
       "    </tr>\n",
       "    <tr>\n",
       "      <th>Adenosine signaling subgraph</th>\n",
       "      <td>2.026316</td>\n",
       "      <td>15</td>\n",
       "      <td>3</td>\n",
       "      <td>154</td>\n",
       "      <td>0.027018</td>\n",
       "      <td>76</td>\n",
       "    </tr>\n",
       "    <tr>\n",
       "      <th>Apoptosis signaling subgraph</th>\n",
       "      <td>2.206140</td>\n",
       "      <td>115</td>\n",
       "      <td>5</td>\n",
       "      <td>503</td>\n",
       "      <td>0.009719</td>\n",
       "      <td>228</td>\n",
       "    </tr>\n",
       "    <tr>\n",
       "      <th>Brain_derived neurotrophic factor signaling subgraph</th>\n",
       "      <td>1.920000</td>\n",
       "      <td>29</td>\n",
       "      <td>1</td>\n",
       "      <td>144</td>\n",
       "      <td>0.025946</td>\n",
       "      <td>75</td>\n",
       "    </tr>\n",
       "    <tr>\n",
       "      <th>Calcium dependent subgraph</th>\n",
       "      <td>2.576159</td>\n",
       "      <td>73</td>\n",
       "      <td>8</td>\n",
       "      <td>778</td>\n",
       "      <td>0.008559</td>\n",
       "      <td>302</td>\n",
       "    </tr>\n",
       "    <tr>\n",
       "      <th>Chromatin organization subgraph</th>\n",
       "      <td>1.250000</td>\n",
       "      <td>2</td>\n",
       "      <td>2</td>\n",
       "      <td>10</td>\n",
       "      <td>0.178571</td>\n",
       "      <td>8</td>\n",
       "    </tr>\n",
       "    <tr>\n",
       "      <th>Energy metabolic subgraph</th>\n",
       "      <td>1.945055</td>\n",
       "      <td>24</td>\n",
       "      <td>4</td>\n",
       "      <td>177</td>\n",
       "      <td>0.021612</td>\n",
       "      <td>91</td>\n",
       "    </tr>\n",
       "    <tr>\n",
       "      <th>Estradiol metabolism</th>\n",
       "      <td>1.142857</td>\n",
       "      <td>1</td>\n",
       "      <td>2</td>\n",
       "      <td>8</td>\n",
       "      <td>0.190476</td>\n",
       "      <td>7</td>\n",
       "    </tr>\n",
       "    <tr>\n",
       "      <th>G-protein-mediated signaling</th>\n",
       "      <td>1.820513</td>\n",
       "      <td>26</td>\n",
       "      <td>5</td>\n",
       "      <td>142</td>\n",
       "      <td>0.023643</td>\n",
       "      <td>78</td>\n",
       "    </tr>\n",
       "    <tr>\n",
       "      <th>Gaba subgraph</th>\n",
       "      <td>2.422053</td>\n",
       "      <td>57</td>\n",
       "      <td>2</td>\n",
       "      <td>637</td>\n",
       "      <td>0.009244</td>\n",
       "      <td>263</td>\n",
       "    </tr>\n",
       "    <tr>\n",
       "      <th>Glutamatergic subgraph</th>\n",
       "      <td>1.933884</td>\n",
       "      <td>32</td>\n",
       "      <td>5</td>\n",
       "      <td>234</td>\n",
       "      <td>0.016116</td>\n",
       "      <td>121</td>\n",
       "    </tr>\n",
       "    <tr>\n",
       "      <th>Hormone signaling subgraph</th>\n",
       "      <td>2.000000</td>\n",
       "      <td>16</td>\n",
       "      <td>9</td>\n",
       "      <td>252</td>\n",
       "      <td>0.016000</td>\n",
       "      <td>126</td>\n",
       "    </tr>\n",
       "    <tr>\n",
       "      <th>Inflammatory response subgraph</th>\n",
       "      <td>1.166667</td>\n",
       "      <td>21</td>\n",
       "      <td>4</td>\n",
       "      <td>49</td>\n",
       "      <td>0.028455</td>\n",
       "      <td>42</td>\n",
       "    </tr>\n",
       "    <tr>\n",
       "      <th>Innate immune system subgraph</th>\n",
       "      <td>1.536585</td>\n",
       "      <td>18</td>\n",
       "      <td>8</td>\n",
       "      <td>63</td>\n",
       "      <td>0.038415</td>\n",
       "      <td>41</td>\n",
       "    </tr>\n",
       "    <tr>\n",
       "      <th>Interleukin signaling subgraph</th>\n",
       "      <td>2.413043</td>\n",
       "      <td>17</td>\n",
       "      <td>3</td>\n",
       "      <td>111</td>\n",
       "      <td>0.053623</td>\n",
       "      <td>46</td>\n",
       "    </tr>\n",
       "    <tr>\n",
       "      <th>Long term synaptic depression</th>\n",
       "      <td>2.046875</td>\n",
       "      <td>22</td>\n",
       "      <td>2</td>\n",
       "      <td>131</td>\n",
       "      <td>0.032490</td>\n",
       "      <td>64</td>\n",
       "    </tr>\n",
       "    <tr>\n",
       "      <th>Long term synaptic potentiation</th>\n",
       "      <td>1.968000</td>\n",
       "      <td>46</td>\n",
       "      <td>2</td>\n",
       "      <td>246</td>\n",
       "      <td>0.015871</td>\n",
       "      <td>125</td>\n",
       "    </tr>\n",
       "    <tr>\n",
       "      <th>Mapk-erk subgraph</th>\n",
       "      <td>2.223642</td>\n",
       "      <td>68</td>\n",
       "      <td>5</td>\n",
       "      <td>696</td>\n",
       "      <td>0.007127</td>\n",
       "      <td>313</td>\n",
       "    </tr>\n",
       "    <tr>\n",
       "      <th>Metabolism</th>\n",
       "      <td>1.764706</td>\n",
       "      <td>126</td>\n",
       "      <td>14</td>\n",
       "      <td>600</td>\n",
       "      <td>0.005206</td>\n",
       "      <td>340</td>\n",
       "    </tr>\n",
       "    <tr>\n",
       "      <th>Mirna subgraph</th>\n",
       "      <td>0.800000</td>\n",
       "      <td>3</td>\n",
       "      <td>1</td>\n",
       "      <td>4</td>\n",
       "      <td>0.200000</td>\n",
       "      <td>5</td>\n",
       "    </tr>\n",
       "    <tr>\n",
       "      <th>Mossy fiber subgraph</th>\n",
       "      <td>1.736842</td>\n",
       "      <td>14</td>\n",
       "      <td>2</td>\n",
       "      <td>66</td>\n",
       "      <td>0.046942</td>\n",
       "      <td>38</td>\n",
       "    </tr>\n",
       "    <tr>\n",
       "      <th>Mtor signaling subgraph</th>\n",
       "      <td>2.024096</td>\n",
       "      <td>42</td>\n",
       "      <td>3</td>\n",
       "      <td>336</td>\n",
       "      <td>0.012267</td>\n",
       "      <td>166</td>\n",
       "    </tr>\n",
       "    <tr>\n",
       "      <th>Neurotransmitter release subgraph</th>\n",
       "      <td>2.998192</td>\n",
       "      <td>132</td>\n",
       "      <td>5</td>\n",
       "      <td>1658</td>\n",
       "      <td>0.005432</td>\n",
       "      <td>553</td>\n",
       "    </tr>\n",
       "    <tr>\n",
       "      <th>Notch signaling subgraph</th>\n",
       "      <td>1.971429</td>\n",
       "      <td>20</td>\n",
       "      <td>3</td>\n",
       "      <td>207</td>\n",
       "      <td>0.018956</td>\n",
       "      <td>105</td>\n",
       "    </tr>\n",
       "    <tr>\n",
       "      <th>Protein kinase signaling subgraph</th>\n",
       "      <td>2.228117</td>\n",
       "      <td>87</td>\n",
       "      <td>6</td>\n",
       "      <td>840</td>\n",
       "      <td>0.005926</td>\n",
       "      <td>377</td>\n",
       "    </tr>\n",
       "    <tr>\n",
       "      <th>Protein metabolism</th>\n",
       "      <td>1.434109</td>\n",
       "      <td>44</td>\n",
       "      <td>8</td>\n",
       "      <td>185</td>\n",
       "      <td>0.011204</td>\n",
       "      <td>129</td>\n",
       "    </tr>\n",
       "    <tr>\n",
       "      <th>Reelin signaling subgraph</th>\n",
       "      <td>2.162393</td>\n",
       "      <td>21</td>\n",
       "      <td>2</td>\n",
       "      <td>253</td>\n",
       "      <td>0.018641</td>\n",
       "      <td>117</td>\n",
       "    </tr>\n",
       "    <tr>\n",
       "      <th>Regulation of actin cytoskeleton subgraph</th>\n",
       "      <td>0.600000</td>\n",
       "      <td>2</td>\n",
       "      <td>2</td>\n",
       "      <td>3</td>\n",
       "      <td>0.150000</td>\n",
       "      <td>5</td>\n",
       "    </tr>\n",
       "    <tr>\n",
       "      <th>Serotonergic subgraph</th>\n",
       "      <td>3.229730</td>\n",
       "      <td>18</td>\n",
       "      <td>2</td>\n",
       "      <td>478</td>\n",
       "      <td>0.021971</td>\n",
       "      <td>148</td>\n",
       "    </tr>\n",
       "    <tr>\n",
       "      <th>Thyroid hormone signaling subgraph</th>\n",
       "      <td>2.113208</td>\n",
       "      <td>9</td>\n",
       "      <td>2</td>\n",
       "      <td>224</td>\n",
       "      <td>0.020126</td>\n",
       "      <td>106</td>\n",
       "    </tr>\n",
       "    <tr>\n",
       "      <th>Transport related subgraph</th>\n",
       "      <td>1.224490</td>\n",
       "      <td>25</td>\n",
       "      <td>7</td>\n",
       "      <td>60</td>\n",
       "      <td>0.025510</td>\n",
       "      <td>49</td>\n",
       "    </tr>\n",
       "    <tr>\n",
       "      <th>Undefined</th>\n",
       "      <td>1.072902</td>\n",
       "      <td>109</td>\n",
       "      <td>519</td>\n",
       "      <td>3120</td>\n",
       "      <td>0.000369</td>\n",
       "      <td>2908</td>\n",
       "    </tr>\n",
       "    <tr>\n",
       "      <th>Wnt signaling subgraph</th>\n",
       "      <td>1.407407</td>\n",
       "      <td>15</td>\n",
       "      <td>3</td>\n",
       "      <td>38</td>\n",
       "      <td>0.054131</td>\n",
       "      <td>27</td>\n",
       "    </tr>\n",
       "    <tr>\n",
       "      <th>Total</th>\n",
       "      <td>2.335632</td>\n",
       "      <td>641</td>\n",
       "      <td>16</td>\n",
       "      <td>8128</td>\n",
       "      <td>0.000671</td>\n",
       "      <td>3480</td>\n",
       "    </tr>\n",
       "  </tbody>\n",
       "</table>\n",
       "</div>"
      ],
      "text/plain": [
       "                                                    Average degree  Citations  \\\n",
       "Adaptive immune system subgraph                           1.000000          5   \n",
       "Adenosine signaling subgraph                              2.026316         15   \n",
       "Apoptosis signaling subgraph                              2.206140        115   \n",
       "Brain_derived neurotrophic factor signaling sub...        1.920000         29   \n",
       "Calcium dependent subgraph                                2.576159         73   \n",
       "Chromatin organization subgraph                           1.250000          2   \n",
       "Energy metabolic subgraph                                 1.945055         24   \n",
       "Estradiol metabolism                                      1.142857          1   \n",
       "G-protein-mediated signaling                              1.820513         26   \n",
       "Gaba subgraph                                             2.422053         57   \n",
       "Glutamatergic subgraph                                    1.933884         32   \n",
       "Hormone signaling subgraph                                2.000000         16   \n",
       "Inflammatory response subgraph                            1.166667         21   \n",
       "Innate immune system subgraph                             1.536585         18   \n",
       "Interleukin signaling subgraph                            2.413043         17   \n",
       "Long term synaptic depression                             2.046875         22   \n",
       "Long term synaptic potentiation                           1.968000         46   \n",
       "Mapk-erk subgraph                                         2.223642         68   \n",
       "Metabolism                                                1.764706        126   \n",
       "Mirna subgraph                                            0.800000          3   \n",
       "Mossy fiber subgraph                                      1.736842         14   \n",
       "Mtor signaling subgraph                                   2.024096         42   \n",
       "Neurotransmitter release subgraph                         2.998192        132   \n",
       "Notch signaling subgraph                                  1.971429         20   \n",
       "Protein kinase signaling subgraph                         2.228117         87   \n",
       "Protein metabolism                                        1.434109         44   \n",
       "Reelin signaling subgraph                                 2.162393         21   \n",
       "Regulation of actin cytoskeleton subgraph                 0.600000          2   \n",
       "Serotonergic subgraph                                     3.229730         18   \n",
       "Thyroid hormone signaling subgraph                        2.113208          9   \n",
       "Transport related subgraph                                1.224490         25   \n",
       "Undefined                                                 1.072902        109   \n",
       "Wnt signaling subgraph                                    1.407407         15   \n",
       "Total                                                     2.335632        641   \n",
       "\n",
       "                                                    Components  Edges  \\\n",
       "Adaptive immune system subgraph                              4     12   \n",
       "Adenosine signaling subgraph                                 3    154   \n",
       "Apoptosis signaling subgraph                                 5    503   \n",
       "Brain_derived neurotrophic factor signaling sub...           1    144   \n",
       "Calcium dependent subgraph                                   8    778   \n",
       "Chromatin organization subgraph                              2     10   \n",
       "Energy metabolic subgraph                                    4    177   \n",
       "Estradiol metabolism                                         2      8   \n",
       "G-protein-mediated signaling                                 5    142   \n",
       "Gaba subgraph                                                2    637   \n",
       "Glutamatergic subgraph                                       5    234   \n",
       "Hormone signaling subgraph                                   9    252   \n",
       "Inflammatory response subgraph                               4     49   \n",
       "Innate immune system subgraph                                8     63   \n",
       "Interleukin signaling subgraph                               3    111   \n",
       "Long term synaptic depression                                2    131   \n",
       "Long term synaptic potentiation                              2    246   \n",
       "Mapk-erk subgraph                                            5    696   \n",
       "Metabolism                                                  14    600   \n",
       "Mirna subgraph                                               1      4   \n",
       "Mossy fiber subgraph                                         2     66   \n",
       "Mtor signaling subgraph                                      3    336   \n",
       "Neurotransmitter release subgraph                            5   1658   \n",
       "Notch signaling subgraph                                     3    207   \n",
       "Protein kinase signaling subgraph                            6    840   \n",
       "Protein metabolism                                           8    185   \n",
       "Reelin signaling subgraph                                    2    253   \n",
       "Regulation of actin cytoskeleton subgraph                    2      3   \n",
       "Serotonergic subgraph                                        2    478   \n",
       "Thyroid hormone signaling subgraph                           2    224   \n",
       "Transport related subgraph                                   7     60   \n",
       "Undefined                                                  519   3120   \n",
       "Wnt signaling subgraph                                       3     38   \n",
       "Total                                                       16   8128   \n",
       "\n",
       "                                                    Network density  Nodes  \n",
       "Adaptive immune system subgraph                            0.090909     12  \n",
       "Adenosine signaling subgraph                               0.027018     76  \n",
       "Apoptosis signaling subgraph                               0.009719    228  \n",
       "Brain_derived neurotrophic factor signaling sub...         0.025946     75  \n",
       "Calcium dependent subgraph                                 0.008559    302  \n",
       "Chromatin organization subgraph                            0.178571      8  \n",
       "Energy metabolic subgraph                                  0.021612     91  \n",
       "Estradiol metabolism                                       0.190476      7  \n",
       "G-protein-mediated signaling                               0.023643     78  \n",
       "Gaba subgraph                                              0.009244    263  \n",
       "Glutamatergic subgraph                                     0.016116    121  \n",
       "Hormone signaling subgraph                                 0.016000    126  \n",
       "Inflammatory response subgraph                             0.028455     42  \n",
       "Innate immune system subgraph                              0.038415     41  \n",
       "Interleukin signaling subgraph                             0.053623     46  \n",
       "Long term synaptic depression                              0.032490     64  \n",
       "Long term synaptic potentiation                            0.015871    125  \n",
       "Mapk-erk subgraph                                          0.007127    313  \n",
       "Metabolism                                                 0.005206    340  \n",
       "Mirna subgraph                                             0.200000      5  \n",
       "Mossy fiber subgraph                                       0.046942     38  \n",
       "Mtor signaling subgraph                                    0.012267    166  \n",
       "Neurotransmitter release subgraph                          0.005432    553  \n",
       "Notch signaling subgraph                                   0.018956    105  \n",
       "Protein kinase signaling subgraph                          0.005926    377  \n",
       "Protein metabolism                                         0.011204    129  \n",
       "Reelin signaling subgraph                                  0.018641    117  \n",
       "Regulation of actin cytoskeleton subgraph                  0.150000      5  \n",
       "Serotonergic subgraph                                      0.021971    148  \n",
       "Thyroid hormone signaling subgraph                         0.020126    106  \n",
       "Transport related subgraph                                 0.025510     49  \n",
       "Undefined                                                  0.000369   2908  \n",
       "Wnt signaling subgraph                                     0.054131     27  \n",
       "Total                                                      0.000671   3480  "
      ]
     },
     "execution_count": 13,
     "metadata": {},
     "output_type": "execute_result"
    }
   ],
   "source": [
    "data = {\n",
    "    subgraph_name.capitalize(): info_json(subgraph)\n",
    "    for subgraph_name, subgraph in subgraphs.items()\n",
    "}\n",
    "df = pd.DataFrame(data).T\n",
    "del df['Authors']\n",
    "fix_columns(df)\n",
    "\n",
    "df_total = pd.DataFrame({'Total': info_json(graph)}).T\n",
    "del df_total['Compilation warnings']\n",
    "del df_total['Authors']\n",
    "fix_columns(df_total)\n",
    "\n",
    "df = pd.concat([df, df_total])\n",
    "df"
   ]
  },
  {
   "cell_type": "markdown",
   "metadata": {},
   "source": [
    "The dataframe can be output to CSV, or a wide variety of other formats using pandas."
   ]
  },
  {
   "cell_type": "code",
   "execution_count": 14,
   "metadata": {},
   "outputs": [],
   "source": [
    "path = os.path.join(os.path.expanduser('~'), 'Desktop', 'subgraph_summary.csv')\n",
    "df[['Nodes', 'Edges', 'Components', 'Citations']].to_csv(path)"
   ]
  }
 ],
 "metadata": {
  "kernelspec": {
   "display_name": "Python 3",
   "language": "python",
   "name": "python3"
  },
  "language_info": {
   "codemirror_mode": {
    "name": "ipython",
    "version": 3
   },
   "file_extension": ".py",
   "mimetype": "text/x-python",
   "name": "python",
   "nbconvert_exporter": "python",
   "pygments_lexer": "ipython3",
   "version": "3.6.3"
  }
 },
 "nbformat": 4,
 "nbformat_minor": 2
}
