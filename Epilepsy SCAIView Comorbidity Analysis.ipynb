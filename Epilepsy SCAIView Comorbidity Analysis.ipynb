{
 "cells": [
  {
   "cell_type": "markdown",
   "metadata": {},
   "source": [
    "# Epilepsy Comorbidity Analysis using SCAIView\n",
    "\n",
    "#### This notebook contains the Quantification of gene overlap comparing Epilepsy with other disorders using text mining\n",
    "\n",
    "##### Authors: Daniel Domingo-Fernández and Charles Tapley Hoyt\n",
    "\n",
    "Following, the set of queries used in this analysis\n",
    "\n",
    "Reference queries:\n",
    "\n",
    "- [MeSH Disease:\"Epilepsy\"]\n",
    "- [MeSH Disease:\"Alzheimer Disease\"]\n",
    "- [MeSH Disease:\"Tuberculosis\"]\n",
    "- [MeSH Disease:\"Parkinson Disease\"]\n",
    "- [MeSH Disease:\"Dementia\"]\n",
    "- [MeSH Disease:\"Migraine Disorders\"]\n",
    "- [MeSH Disease:\"Diabetes Mellitus\"]\n",
    "- [MeSH Disease:\"Colonic Neoplasms\"]\n",
    "- [MeSH Disease:\"Pulmonary Disease Chronic Obstructive\"]\n",
    "- [MeSH Disease:\"Peptic Ulcer\"]\n",
    "- [MeSH Disease:\"Anxiety Disorders\"]\n",
    "- [MeSH Disease:\"Urinary Incontinence\"]\n",
    "- [MeSH Disease:\"Cataract\"]\n",
    "- [MeSH Disease:\"Hypertension\"]\n",
    "- [MeSH Disease:\"Arthritis\"]\n",
    "\n",
    "\n",
    "Queries used for calculating pleitropy rates\n",
    "\n",
    "- [MeSH Disease:\"Epilepsy\"] AND [MeSH Disease:\"Alzheimer Disease\"]\n",
    "- [MeSH Disease:\"Epilepsy\"] AND [MeSH Disease:\"Parkinson Disease\"]\n",
    "- [MeSH Disease:\"Epilepsy\"] AND [MeSH Disease:\"Dementia\"]\n",
    "- [MeSH Disease:\"Epilepsy\"] AND [MeSH Disease:\"Migraine Disorders\"]\n",
    "- [MeSH Disease:\"Epilepsy\"] AND [MeSH Disease:\"Diabetes Mellitus\"]\n",
    "- [MeSH Disease:\"Epilepsy\"] AND [MeSH Disease:\"Colonic Neoplasms\"]\n",
    "- [MeSH Disease:\"Epilepsy\"] AND [MeSH Disease:\"Pulmonary Disease Chronic Obstructive\"]\n",
    "- [MeSH Disease:\"Epilepsy\"] AND [MeSH Disease:\"Anxiety Disorders\"]\n",
    "- [MeSH Disease:\"Epilepsy\"] AND [MeSH Disease:\"Urinary Incontinence\"]\n",
    "- [MeSH Disease:\"Epilepsy\"] AND [MeSH Disease:\"Cataract\"]\n",
    "- [MeSH Disease:\"Epilepsy\"] AND [MeSH Disease:\"Hypertension\"]\n",
    "- [MeSH Disease:\"Epilepsy\"] AND [MeSH Disease:\"Arthritis\"]\n",
    "\n",
    "\n",
    "The queries were retrieved using SCAIView version 1.7.3\n",
    "Corresponding to the indexing of MEDLINE on 2016-07-14T13:50:07.797575Z.\n",
    "\n",
    "*Note that the reference queries might take time since thousand of articles need to be analyzed.\n"
   ]
  },
  {
   "cell_type": "markdown",
   "metadata": {},
   "source": [
    "#### Notebook results"
   ]
  },
  {
   "cell_type": "markdown",
   "metadata": {},
   "source": [
    "*Disease* | *Reference Query* | *Number of documents* | *Genes associated with the disease*| *Gene set size* | *Normalized pleitropy rate (%)*\n",
    "--- | --- | ---\n",
    "*Alzheimer's disease* | `[MeSH Disease:\"Alzheimer Disease\"]` | `109495` | `4968` | `396` | `13.65`\n",
    "*Migraine* | `[MeSH Disease:\"Migraine Disorders\"]` | `30928`| `1230` | `306` | `10.54`\n",
    "*Parkinson's disease* | `[MeSH Disease:\"Parkinson Disease\"]` | `79103` | `3646 ` | `258` | `8.89`\n",
    "*Hypertension* | `[MeSH Disease:\"Hypertension\"]` | `391190`| `5574` | `252` | `8.68`\n",
    "*Dementia* | `[MeSH Disease:\"Dementia\"]` | `183802` | `5833` |`220` | `7.58`\n",
    "*Diabetes* | `[MeSH Disease:\"Diabetes Mellitus\"]` | `394411` | `6661` | `184` | `6.34`\n",
    "*Anxiety* | `[MeSH Disease:\"Anxiety Disorders\"]` | `84138`| `1782 ` | `124` | `4.27`\n",
    "*Arthritis* | `[MeSH Disease:\"Arthritis\"]` | `259327`| `5367` | `122` | `4.20`\n",
    "*Cataracts* | `[MeSH Disease:\"Cataract\"]` | `52150`| `2238` | `119` | `4.10`\n",
    "*Colon cancer* | `[MeSH Disease:\"Colonic Neoplasms\"]` | `107274` | `3646` | `30` | `1.03`\n",
    "*Urinary incontinence* | `[MeSH Disease:\"Urinary Incontinence\"]` | `34170`| `720` | `24` | `0.82`\n",
    "*Peptic ulcers* | `[MeSH Disease:\"Peptic Ulcer\"]` | `68234`| `1445` | `21` | `0.72`\n",
    "*COPD* | `[MeSH Disease:\"Pulmonary Disease Chronic Obstructive\"]` | `35627`| `2244` | `15` | `0.51`\n",
    "\n",
    "\n",
    "#### Table 1. Results of the Epilepsy Comorbidity Analysis using SCAIView. \n",
    "\n",
    "Description of each column:\n",
    "\n",
    "Column 1. Disease.\n",
    "\n",
    "Column 2. Reference query for the disease.\n",
    "\n",
    "Column 3. Number of documents retrieved using the disease reference query.\n",
    "\n",
    "Column 4. Total number of genes found in the corpus retrieved with the reference query for the disease.\n",
    "\n",
    "Column 5. Number of genes with a relative entropy greater than 0 retrieved from a query containing the disease of interest and epilepsy. An example for diabetes would use the following query: [MeSH Disease:\"Epilepsy\"] AND [MeSH Disease:\"Diabetes Mellitus\"] and the corpus would contain articles that mention Epilepsy and Diabetes. The relative entropy is calculated using the occurrence of genes/proteins within this query and comparing with their occurrence in MEDLINE.\n",
    "\n",
    "Column 6. Normalized pleitropy rate. Overlap of genes in comparison with the Epilepsy geneset (total of 2901 genes) containing genes with a relative entropy greater than 0 using the Epilepsy reference query [MeSH Disease:\"Epilepsy\"] (192245 documents)."
   ]
  },
  {
   "cell_type": "code",
   "execution_count": 1,
   "metadata": {
    "collapsed": true
   },
   "outputs": [],
   "source": [
    "import csv\n",
    "import os\n",
    "from matplotlib import pyplot as plt\n",
    "from matplotlib_venn import venn3, venn2\n",
    "import numpy as np\n",
    "import scipy.stats as stats\n",
    "import seaborn as sns\n",
    "import pandas as pd\n",
    "from operator import itemgetter"
   ]
  },
  {
   "cell_type": "markdown",
   "metadata": {},
   "source": [
    "##### Load resources"
   ]
  },
  {
   "cell_type": "code",
   "execution_count": 2,
   "metadata": {
    "collapsed": true
   },
   "outputs": [],
   "source": [
    "current_path = os.getcwd() # Notebook abs path\n",
    "resources_path = os.path.join(current_path, \"resources\")\n",
    "results_path = os.path.join(current_path, \"results\")\n",
    "\n",
    "# Import the results from the combined queries (epilepsy + comorbidity)\n",
    "\n",
    "#### International Classification of Diseases (ICD) groups from Keezer et al., 2016 \n",
    "#### (https://www.ncbi.nlm.nih.gov/pubmed/26549780)\n",
    "\n",
    "# Epilepsy reference query\n",
    "epilepsy_path = os.path.join(resources_path, 'epilepsy.csv')\n",
    "\n",
    "comorbidities = []\n",
    "\n",
    "# ICD chapter II: neoplasms\n",
    "comorbidities.append((\"Colon cancer\", os.path.join(resources_path, 'colon_cancer_epilepsy.csv'))) # since neoplasms is a general term, we have chosen a common type of cancer\n",
    "\n",
    "# ICD chapter IV: endocrine, nutritional, and metabolic diseases\n",
    "comorbidities.append((\"Diabetes\", os.path.join(resources_path, 'diabetes_epilepsy.csv'))) \n",
    "\n",
    "# ICD chapter V: mental and behavioural disorders\n",
    "comorbidities.append((\"Anxiety\", os.path.join(resources_path, 'anxiety_epilepsy.csv'))) \n",
    "\n",
    "# ICD chapter VI: nervous system\n",
    "comorbidities.append((\"Alzheimer's disease\", os.path.join(resources_path, 'alzheimers_epilepsy.csv'))) \n",
    "comorbidities.append((\"Parkinson's disease\", os.path.join(resources_path, 'parkinson_epilepsy.csv'))) # parkinson's is included since we have a Knowledge Assembly\n",
    "comorbidities.append((\"Migraine\", os.path.join(resources_path, 'migraine_epilepsy.csv'))) \n",
    "comorbidities.append((\"Dementia\", os.path.join(resources_path, 'dementia_epilepsy.csv'))) \n",
    "\n",
    "# ICD chapter VII: eye and adnexa\n",
    "comorbidities.append((\"Cataracts\", os.path.join(resources_path, 'cataracts_epilepsy.csv'))) \n",
    "\n",
    "# ICD chapter IX: circulary system\n",
    "comorbidities.append((\"Hypertension\", os.path.join(resources_path, 'hypertension_epilepsy.csv'))) \n",
    "\n",
    "# ICD chapter X: respiratory system\n",
    "comorbidities.append((\"Pulmonary Disease Chronic Obstructive\", os.path.join(resources_path, 'copd_epilepsy.csv')))  # Pulmonary Disease Chronic Obstructive\n",
    "\n",
    "# ICD chapter XI:digestive system\n",
    "comorbidities.append((\"Peptic ulcers\", os.path.join(resources_path, 'peptic_ulcer_epilepsy.csv')))  # Pulmonary Disease Chronic Obstructive\n",
    "\n",
    "# ICD chapter XIII: musculoskeletal system and connective tissues\n",
    "comorbidities.append((\"Arthritis\", os.path.join(resources_path, 'arthritis_epilepsy.csv')))  \n",
    "\n",
    "# ICD chapter XIV: genitourinary system\n",
    "comorbidities.append((\"Urinary incontinence\", os.path.join(resources_path, 'urinary_incontinence_epilepsy.csv')))  \n",
    "\n",
    "# Result table\n",
    "result_table = os.path.join(results_path, 'gene_overlap_results.tsv')\n",
    "result_df = pd.DataFrame.from_csv(result_table, sep='\\t')"
   ]
  },
  {
   "cell_type": "markdown",
   "metadata": {},
   "source": [
    "##### Parsing result files from SCAIView\n",
    "\n",
    "First column structure: Common Name;Internal Identifier;Relative Entropy;Reference Entity Count;Entity Count;Query Entity Count;\n",
    "\n",
    "HGNC names and relative entropy greater than 0 will only be extracted\n",
    "\n",
    "It seems to be a problem with the structure of the exported csv file because pandas is not able to import it"
   ]
  },
  {
   "cell_type": "code",
   "execution_count": 3,
   "metadata": {
    "collapsed": true
   },
   "outputs": [],
   "source": [
    "def parser_scaiview_csv(path):\n",
    "    \n",
    "    gene_dict = {}\n",
    "\n",
    "    with open(path, \"r\") as f:\n",
    "        reader = csv.reader(f, delimiter=\"\\t\")\n",
    "        for i, line in enumerate(reader):\n",
    "            \n",
    "            line = [\n",
    "                word\n",
    "                for word in line[0].split(';')\n",
    "            ]\n",
    "                        \n",
    "            # Skip the header (csv structure is corrupt)\n",
    "            # Only take into consideration genes whose relative entropy score is greater than 0\n",
    "            if i == 0 or float(line[2]) < 0:\n",
    "                continue\n",
    "            \n",
    "            # Populate {Gene: Relative entropy dictionary}           \n",
    "            gene_dict[line[0]] = line[2]\n",
    "            \n",
    "    return gene_dict\n",
    "\n",
    "def print_results(disease, reference_disease, size_geneset, size_reference):\n",
    "    \"\"\" Print the results\n",
    "    :param disease str: disease name\n",
    "    :param reference_disease str: reference disease to compare\n",
    "    :param size_geneset int: number of genes in query disease + reference\n",
    "    :param size_reference int: number of genes found in reference query\n",
    "    \"\"\"\n",
    "    \n",
    "    print('{} + {} results: geneset size {} - pleitropy rate: {}\\n'.format(\n",
    "    disease,\n",
    "    reference_disease,\n",
    "    size_geneset,\n",
    "    size_geneset/size_reference\n",
    "    )\n",
    ")"
   ]
  },
  {
   "cell_type": "markdown",
   "metadata": {},
   "source": [
    "##### Overlap between genesets with epilepsy"
   ]
  },
  {
   "cell_type": "code",
   "execution_count": 4,
   "metadata": {},
   "outputs": [
    {
     "name": "stdout",
     "output_type": "stream",
     "text": [
      "Reference Epilepsy geneset size 2901 \n",
      "\n",
      "Pleitropy rates \n",
      "\n",
      "Alzheimer's disease + Epilepsy results: geneset size 396 - pleitropy rate: 0.13650465356773525\n",
      "\n",
      "Migraine + Epilepsy results: geneset size 306 - pleitropy rate: 0.10548086866597725\n",
      "\n",
      "Parkinson's disease + Epilepsy results: geneset size 258 - pleitropy rate: 0.0889348500517063\n",
      "\n",
      "Hypertension + Epilepsy results: geneset size 252 - pleitropy rate: 0.08686659772492245\n",
      "\n",
      "Dementia + Epilepsy results: geneset size 220 - pleitropy rate: 0.07583591864874181\n",
      "\n",
      "Diabetes + Epilepsy results: geneset size 184 - pleitropy rate: 0.0634264046880386\n",
      "\n",
      "Anxiety + Epilepsy results: geneset size 124 - pleitropy rate: 0.04274388142019993\n",
      "\n",
      "Arthritis + Epilepsy results: geneset size 122 - pleitropy rate: 0.04205446397793864\n",
      "\n",
      "Cataracts + Epilepsy results: geneset size 119 - pleitropy rate: 0.041020337814546705\n",
      "\n",
      "Colon cancer + Epilepsy results: geneset size 30 - pleitropy rate: 0.010341261633919338\n",
      "\n",
      "Urinary incontinence + Epilepsy results: geneset size 24 - pleitropy rate: 0.008273009307135471\n",
      "\n",
      "Peptic ulcers + Epilepsy results: geneset size 21 - pleitropy rate: 0.007238883143743537\n",
      "\n",
      "Pulmonary Disease Chronic Obstructive + Epilepsy results: geneset size 15 - pleitropy rate: 0.005170630816959669\n",
      "\n"
     ]
    }
   ],
   "source": [
    "# Disease - geneset size pairs\n",
    "disease_geneset = [\n",
    "    (disease, len(parser_scaiview_csv(path)))\n",
    "    for disease, path in comorbidities\n",
    "]\n",
    "\n",
    "sorted_diseases = sorted(disease_geneset, key=lambda x: x[1], reverse=True)\n",
    "\n",
    "# Reference set for epilepsy\n",
    "epilepsy_geneset = parser_scaiview_csv(epilepsy_path)\n",
    "    \n",
    "print('Reference Epilepsy geneset size {} \\n'.format(len(epilepsy_geneset)))\n",
    "\n",
    "print('Pleitropy rates \\n')\n",
    "\n",
    "for disease, geneset in sorted_diseases:\n",
    "    print_results(disease, 'Epilepsy', geneset, len(epilepsy_geneset.keys()))\n"
   ]
  },
  {
   "cell_type": "markdown",
   "metadata": {},
   "source": [
    "# Supplementary analysis"
   ]
  },
  {
   "cell_type": "markdown",
   "metadata": {},
   "source": [
    "###### Overlap between Alzheimer's,  migraine and Parkinson's queries"
   ]
  },
  {
   "cell_type": "code",
   "execution_count": 5,
   "metadata": {},
   "outputs": [
    {
     "data": {
      "image/png": "[encoded data removed]",
      "text/plain": [
       "<matplotlib.figure.Figure at 0x7fb7f42eb2b0>"
      ]
     },
     "metadata": {},
     "output_type": "display_data"
    }
   ],
   "source": [
    "plt.figure(figsize=(4,4))\n",
    "alzheimers_epilepsy_geneset = parser_scaiview_csv(os.path.join(resources_path, 'alzheimers_epilepsy.csv'))\n",
    "migraine_epilepsy_geneset = parser_scaiview_csv(os.path.join(resources_path, 'migraine_epilepsy.csv'))\n",
    "parkinsons_epilepsy_geneset = parser_scaiview_csv(os.path.join(resources_path, 'parkinson_epilepsy.csv'))\n",
    "\n",
    "v = venn3(\n",
    "    [alzheimers_epilepsy_geneset.keys(),migraine_epilepsy_geneset.keys(), parkinsons_epilepsy_geneset.keys()],\n",
    "    set_labels = (\"Alzheimers's\", 'Migraine',\"Parkinson's\")\n",
    ")\n",
    "plt.title(\"Comorbidity analysis by comparing literature gene overlap\")\n",
    "plt.show()"
   ]
  },
  {
   "cell_type": "markdown",
   "metadata": {},
   "source": [
    "##### Distributions of the geneset relative entropies\n",
    "\n",
    "Explanation about the calculation of relative entropies can be found in:\n",
    "https://www.ncbi.nlm.nih.gov/pmc/articles/PMC3541249/\n",
    "\n",
    "Relative entropy (p1, p2) = p1 * log (p1/p2)\n",
    "\n",
    "Where p1 is the number of abstracts containing the entity in the query selected corpus and p2 denotes the total number of documents in which the entity occurs within an unspecific reference corpus (i.e. the entire Medline). The Kullback–Leibler divergence ranks those entities high, which have especially high frequency in the selected corpus in comparison to the unspecific reference corpus. This means that frequently occurring entities do not receive high ranks. For example, using the query “ ‘Alzheimer’s Disease’ AND ‘Evidence marker’ AND ‘Human Genes/Proteins’ ”, we retrieved 331 abstracts containing IL1B with a frequency ranking of 10. Conversely, according to the relative entropy formula, IL1B has an entropy rank of 34 despite its high occurrence in Medline (i.e. 40685 abstracts)."
   ]
  },
  {
   "cell_type": "markdown",
   "metadata": {},
   "source": [
    "##### Check the distribution of relative entropies in each query"
   ]
  },
  {
   "cell_type": "code",
   "execution_count": 6,
   "metadata": {},
   "outputs": [
    {
     "data": {
      "image/png": "[encoded data removed]",
      "text/plain": [
       "<matplotlib.figure.Figure at 0x7fb7f425f780>"
      ]
     },
     "metadata": {},
     "output_type": "display_data"
    }
   ],
   "source": [
    "# Relative entropies as strings to integers\n",
    "h = [\n",
    "    entropy\n",
    "    for entropy in map(float, alzheimers_epilepsy_geneset.values())\n",
    "    if entropy > 0\n",
    "]\n",
    "\n",
    "plt.title('Alzheimers + Epilepsy Query')\n",
    "sns.distplot(h)\n",
    "plt.show()  "
   ]
  },
  {
   "cell_type": "code",
   "execution_count": null,
   "metadata": {
    "collapsed": true
   },
   "outputs": [],
   "source": []
  }
 ],
 "metadata": {
  "kernelspec": {
   "display_name": "Python 3",
   "language": "python",
   "name": "python3"
  },
  "language_info": {
   "codemirror_mode": {
    "name": "ipython",
    "version": 3
   },
   "file_extension": ".py",
   "mimetype": "text/x-python",
   "name": "python",
   "nbconvert_exporter": "python",
   "pygments_lexer": "ipython3",
   "version": "3.6.3"
  }
 },
 "nbformat": 4,
 "nbformat_minor": 2
}
