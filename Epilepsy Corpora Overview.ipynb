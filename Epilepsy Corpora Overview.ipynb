{
 "cells": [
  {
   "cell_type": "markdown",
   "metadata": {},
   "source": [
    "# Overview of the EpiCom Corpora\n",
    "\n",
    "This notebook presents an overview of the references retrieved in each SCAIView query and subsequently used for building the Epilepsy Knowledge Assembly from Hoyt and Domingo-Fernandez et. al, 2018.\n",
    "\n",
    "\n",
    "\n"
   ]
  },
  {
   "cell_type": "code",
   "execution_count": 41,
   "metadata": {
    "collapsed": true
   },
   "outputs": [],
   "source": [
    "import sys\n",
    "import time\n",
    "import os\n",
    "from matplotlib import pyplot as plt\n",
    "from matplotlib_venn import venn3, venn2"
   ]
  },
  {
   "cell_type": "code",
   "execution_count": 42,
   "metadata": {},
   "outputs": [
    {
     "name": "stdout",
     "output_type": "stream",
     "text": [
      "3.4.5 (default, Dec 11 2017, 14:22:24) \n",
      "[GCC 4.8.5 20150623 (Red Hat 4.8.5-16)]\n"
     ]
    }
   ],
   "source": [
    "print(sys.version)"
   ]
  },
  {
   "cell_type": "code",
   "execution_count": 43,
   "metadata": {},
   "outputs": [
    {
     "name": "stdout",
     "output_type": "stream",
     "text": [
      "Tue Mar 27 13:59:22 2018\n"
     ]
    }
   ],
   "source": [
    "print(time.asctime())"
   ]
  },
  {
   "cell_type": "markdown",
   "metadata": {},
   "source": [
    "### Data Provenance"
   ]
  },
  {
   "cell_type": "code",
   "execution_count": 37,
   "metadata": {
    "collapsed": true
   },
   "outputs": [],
   "source": [
    "current_path = os.getcwd() # Notebook abs path\n",
    "resources_path = os.path.join(current_path, \"corpora\")\n",
    "\n",
    "bel_citations = os.path.join(resources_path, 'citations_from_bel.txt')\n",
    "scaiview_query_1_citations = os.path.join(resources_path, 'citations_from_bel.txt')\n",
    "scaiview_query_2_citations = os.path.join(resources_path, 'citations_from_bel.txt')"
   ]
  },
  {
   "cell_type": "markdown",
   "metadata": {},
   "source": [
    "### Parse Documents"
   ]
  },
  {
   "cell_type": "code",
   "execution_count": 38,
   "metadata": {},
   "outputs": [],
   "source": [
    "# Get BEL PubMeds\n",
    "with open(bel_citations) as f:\n",
    "    pubmeds = f.readlines()\n",
    "bel_pubmeds = {pubmed.strip() for pubmed in pubmeds}\n",
    "\n",
    "# Get SCAIView Query 1 PubMeds\n",
    "# with open(scaiview_query_1_citations) as f:\n",
    "#     pubmeds = f.readlines()\n",
    "# scaiview_query_1_pubmeds = {pubmed.strip() for pubmed in pubmeds}\n",
    "\n",
    "# # Get SCAIView Query 2 PubMeds\n",
    "# with open(scaiview_query_2_citations) as f:\n",
    "#     pubmeds = f.readlines()\n",
    "# scaiview_query_2_pubmeds= {pubmed.strip() for pubmed in pubmeds}\n",
    "\n"
   ]
  },
  {
   "cell_type": "markdown",
   "metadata": {},
   "source": [
    "### Overlap between different corpora"
   ]
  },
  {
   "cell_type": "code",
   "execution_count": 40,
   "metadata": {},
   "outputs": [
    {
     "data": {
      "image/png": "[encoded data removed]",
      "text/plain": [
       "<matplotlib.figure.Figure at 0x7f0dc6fc95c0>"
      ]
     },
     "metadata": {},
     "output_type": "display_data"
    }
   ],
   "source": [
    "plt.figure(figsize=(4,4))\n",
    "\n",
    "v = venn3(\n",
    "    [bel_pubmeds, scaiview_query_1_pubmeds, scaiview_query_2_pubmeds],\n",
    "    set_labels = (\"Epilepsy Knowledge Assembly\", \"SCAIView Query 1\",\"SCAIView Query 2\")\n",
    ")\n",
    "plt.title(\"Overlap between corpora\")\n",
    "plt.show()\n"
   ]
  },
  {
   "cell_type": "code",
   "execution_count": null,
   "metadata": {
    "collapsed": true
   },
   "outputs": [],
   "source": []
  }
 ],
 "metadata": {
  "kernelspec": {
   "display_name": "Python 3",
   "language": "python",
   "name": "python3"
  },
  "language_info": {
   "codemirror_mode": {
    "name": "ipython",
    "version": 3
   },
   "file_extension": ".py",
   "mimetype": "text/x-python",
   "name": "python",
   "nbconvert_exporter": "python",
   "pygments_lexer": "ipython3",
   "version": "3.4.5"
  }
 },
 "nbformat": 4,
 "nbformat_minor": 2
}
